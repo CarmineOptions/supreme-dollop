{
 "cells": [
  {
   "cell_type": "code",
   "execution_count": 86,
   "metadata": {},
   "outputs": [],
   "source": [
    "from datetime import datetime\n",
    "import time\n",
    "from decimal import Decimal, ROUND_DOWN\n",
    "import os\n",
    "\n",
    "import requests\n",
    "import plotly.express as px\n",
    "import pandas as pd\n",
    "import matplotlib.pyplot as plt\n",
    "import numpy as np\n",
    "\n",
    "from starknet_py.net.gateway_client import GatewayClient\n",
    "from starknet_py.net.full_node_client import FullNodeClient\n",
    "from starknet_py.hash.selector import get_selector_from_name\n",
    "from starknet_py.net.client_models import Call\n",
    "\n",
    "\n",
    "# from aux import fetch_options\n",
    "\n",
    "\n",
    "pd.set_option('display.expand_frame_repr', False)\n",
    "pd.set_option('max_colwidth', None)\n",
    "pd.set_option('display.max_columns', None)"
   ]
  },
  {
   "cell_type": "code",
   "execution_count": null,
   "metadata": {},
   "outputs": [],
   "source": [
    "# Function for fetching options from our API\n",
    "OPTIONS_ENDPOINT = 'https://api.carmine.finance/api/v1/mainnet/option-volatility'\n",
    "def fetch_options():\n",
    "    r = requests.get(OPTIONS_ENDPOINT)\n",
    "    r.raise_for_status()\n",
    "    return r.json()['data']"
   ]
  },
  {
   "cell_type": "code",
   "execution_count": 2,
   "metadata": {},
   "outputs": [],
   "source": [
    "CALL = 0\n",
    "PUT = 1\n",
    "\n",
    "LONG = 0\n",
    "SHORT = 1"
   ]
  },
  {
   "cell_type": "code",
   "execution_count": 3,
   "metadata": {},
   "outputs": [],
   "source": [
    "AMM_ADDR = 0x076dbabc4293db346b0a56b29b6ea9fe18e93742c73f12348c8747ecfc1050aa\n",
    "PRAGMA = 0x0346c57f094d641ad94e43468628d8e9c574dcb2803ec372576ccc60a40be2c4\n",
    "TOKEN_ETH_ADDRESS = 0x049d36570d4e46f48e99674bd3fcc84644ddd6b96f7c741b1562b82f9e004dc7\n",
    "TOKEN_USD_ADDRESS = 0x053c91253bc9682c04929ca02ed00b3e423f6710d2ee7e0d5ebb06f3ecf368a8\n",
    "\n",
    "\n",
    "PRAGMA_MULT = Decimal(10**8) # Pragma price multiplier\n",
    "FRACT_PART = Decimal(2**61)  # Math 64x61 multiplier\n",
    "OPT_MULT = Decimal(10**18)   # Option token multiplier\n",
    "ETH_MULT = Decimal(10**18)   # ETH multiplier\n",
    "USDC_MULT = Decimal(10**6)   # USDC multiplier"
   ]
  },
  {
   "cell_type": "code",
   "execution_count": 4,
   "metadata": {},
   "outputs": [],
   "source": [
    "NET = GatewayClient('mainnet')\n",
    "async def func_call(addr, selector, calldata, note):\n",
    "    call = Call(\n",
    "        to_addr=addr,\n",
    "        selector=get_selector_from_name(selector),\n",
    "        calldata=calldata\n",
    "    )\n",
    "    res = await NET.call_contract(call)\n",
    "    return (calldata, res, note)\n",
    "\n",
    "async def func_call_from_block(addr, selector, calldata, note, block_num):\n",
    "    call = Call(\n",
    "        to_addr=addr,\n",
    "        selector=get_selector_from_name(selector),\n",
    "        calldata=calldata\n",
    "    )\n",
    "    res = await NET.call_contract(call, block_number=block_num)\n",
    "    return (calldata, res, note)"
   ]
  },
  {
   "cell_type": "code",
   "execution_count": 5,
   "metadata": {},
   "outputs": [],
   "source": [
    "opts = fetch_options()\n",
    "\n",
    "# Convert all value to Decimal\n",
    "for opt in opts:\n",
    "    opt['strike_price'] = Decimal(int(opt['strike_price'], 16))\n",
    "\n",
    "    for vol in opt['volatilities']:\n",
    "        vol['volatility'] = Decimal(int(vol['volatility'], 16)) if vol['volatility'] is not None else None\n",
    "        vol['option_position'] = Decimal(int(vol['option_position'], 16)) if vol['option_position'] is not None else None"
   ]
  },
  {
   "attachments": {},
   "cell_type": "markdown",
   "metadata": {},
   "source": [
    "### Amm Events"
   ]
  },
  {
   "cell_type": "code",
   "execution_count": 8,
   "metadata": {},
   "outputs": [],
   "source": [
    "# Fetch AMM Events from Starkscan\n",
    "\n",
    "url = 'https://api.starkscan.co/api/v0/events?from_address=0x076dbabc4293db346b0a56b29b6ea9fe18e93742c73f12348c8747ecfc1050aa&limit=100'\n",
    "\n",
    "headers = {\n",
    "    \"accept\": \"application/json\",\n",
    "    \"x-api-key\": \"INSERT STARKSCAN API KEY HERE\",\n",
    "    # \"x-api-key\": os.getenv('STARKSCAN_KEY'),\n",
    "}\n",
    "\n",
    "resps_amm_events = []\n",
    "\n",
    "while True:\n",
    "    response = requests.get(url, headers=headers)\n",
    "    resps_amm_events.extend(response.json()['data'])\n",
    "    url = response.json()['next_url']\n",
    "    if not url:\n",
    "        break\n",
    "    time.sleep(0.1)\n",
    "\n",
    "\n",
    "events = pd.DataFrame(resps_amm_events)"
   ]
  },
  {
   "attachments": {},
   "cell_type": "markdown",
   "metadata": {},
   "source": [
    "### Pool settlements\n",
    "- Check that pools were settled at correct checkpoint where correct checkpoint means that either its timestamp is max 2 hours before expiry or that pools position was zero at the time of expiry (in this case nothing happens, so we don't care if the checkpoint wasn't the correct one)"
   ]
  },
  {
   "cell_type": "code",
   "execution_count": 10,
   "metadata": {},
   "outputs": [],
   "source": [
    "# Select only pool expirations\n",
    "pool_sets = events[events['key_name'] == 'ExpireOptionTokenForPool'].copy()"
   ]
  },
  {
   "cell_type": "code",
   "execution_count": 11,
   "metadata": {},
   "outputs": [],
   "source": [
    "# Expand data column which stores event info\n",
    "pool_sets['lp_token'] = [i[0] for i in pool_sets['data']]\n",
    "pool_sets['side'] = [int(i[1], 16) for i in pool_sets['data']]\n",
    "pool_sets['strike'] = [Decimal(int(i[2], 16)) for i in pool_sets['data']] # Convert to decimal\n",
    "pool_sets['maturity'] = [int(i[3], 16) for i in pool_sets['data']]\n",
    "\n",
    "pool_sets = pool_sets.drop('data', axis = 1)"
   ]
  },
  {
   "cell_type": "code",
   "execution_count": 12,
   "metadata": {},
   "outputs": [],
   "source": [
    "pool_sets = pool_sets.to_dict('records')"
   ]
  },
  {
   "cell_type": "code",
   "execution_count": null,
   "metadata": {},
   "outputs": [],
   "source": [
    "PRAGMA = 0x0346c57f094d641ad94e43468628d8e9c574dcb2803ec372576ccc60a40be2c4\n",
    "selector = 'get_last_spot_checkpoint_before'\n",
    "ETH_KEY = 19514442401534788\n",
    "\n",
    "# Iterate over the pool settlements and add checkpoint timestamp/price that \n",
    "# would be received in the same block\n",
    "for ix, settle in enumerate(pool_sets):\n",
    "\n",
    "    print(f'Progress: {(ix+1) / len(pool_sets):_.2%}, {ix}')\n",
    "    \n",
    "    while True:\n",
    "        try:\n",
    "            res = await func_call_from_block(\n",
    "                PRAGMA, # Address\n",
    "                selector, # Selector\n",
    "                [ETH_KEY, settle['maturity']], # Calldata - pair_id / timestamp(maturity in this case)\n",
    "                None, # Note, not needed rn\n",
    "                settle['block_number'] # Block number from which to retrieve the data\n",
    "            )\n",
    "            break \n",
    "        except KeyboardInterrupt:\n",
    "            raise SystemExit\n",
    "        except Exception as e:\n",
    "            print(e)\n",
    "            continue\n",
    "\n",
    "    settle['price'] = Decimal(res[1][1]) # Convert to decimal\n",
    "    settle['checkpoint_timestamp'] = res[1][0]\n",
    "\n",
    "\n",
    "    settle['tm_diff'] = settle['maturity'] - settle['checkpoint_timestamp']\n",
    "    settle['tm_diff_hours'] = settle['tm_diff'] / 3600\n",
    "\n",
    "    settle['time'] = pd.to_datetime(settle['timestamp'], unit = 's').dt.strftime('%d/%m-%H:%M')\n",
    "\n",
    "    settle['option_type'] = 0 if settle['lp_token'] == '0x7aba50fdb4e024c1ba63e2c60565d0fd32566ff4b18aa5818fc80c30e749024' else 1\n",
    "\n",
    "    time.sleep(0.4)"
   ]
  },
  {
   "cell_type": "code",
   "execution_count": 19,
   "metadata": {},
   "outputs": [],
   "source": [
    "for settle in pool_sets:\n",
    "    option = None\n",
    "    # Get corresponding option from api\n",
    "    for opt in opts:\n",
    "        if opt['option_side'] == settle['side']:\n",
    "            if opt['option_type'] == settle['option_type']:\n",
    "                if opt['maturity'] == settle['maturity']:\n",
    "                    if opt['strike_price'] == settle['strike']:\n",
    "                        # print(opt['strike_price'])\n",
    "                        option = opt\n",
    "    if option is None:\n",
    "        print('Unable to find option')\n",
    "        break\n",
    "\n",
    "    # If the diff is between 0 and 2 then the settlement received correct checkpoint\n",
    "    if settle['tm_diff_hours'] > 0 and settle['tm_diff_hours'] <= 2:\n",
    "        settle['settled_correctly'] = True\n",
    "        continue\n",
    "\n",
    "    # However it does not matter if it settled with wrong checkpoint if the position was 0 at that time\n",
    "    # so check pool position for given option in the block of settlement (and the one before to be sure)\n",
    "    # and if it was 0 then we can say that it was setttled correctly   \n",
    "\n",
    "    # Fetch data from block of settlement and the block before \n",
    "    while True:\n",
    "        try:\n",
    "            curr_res = await func_call_from_block(\n",
    "                AMM_ADDR, # Address\n",
    "                'get_option_position', # Selector\n",
    "                [settle['lp_token'], settle['side'], settle['maturity'], settle['strike']], # Calldata\n",
    "                None, # Note, not needed rn\n",
    "                settle['block_number'] # Block number from which to retrieve the data\n",
    "            )\n",
    "            # Fetch data from block before settlement\n",
    "            prev_res = await func_call_from_block(\n",
    "                AMM_ADDR, # Address\n",
    "                'get_option_position', # Selector\n",
    "                [settle['lp_token'], settle['side'], settle['maturity'], settle['strike']], # Calldata\n",
    "                None, # Note, not needed rn\n",
    "                settle['block_number'] - 1 # Block number from which to retrieve the data\n",
    "            )\n",
    "            break\n",
    "        except KeyboardInterrupt:\n",
    "            raise SystemExit\n",
    "        except Exception as e:\n",
    "            # print(e)\n",
    "            continue\n",
    "\n",
    "\n",
    "    if curr_res[1][0] == 0 and prev_res[1][0] == 0:\n",
    "        settle['settled_correctly'] = True \n",
    "\n",
    "    else: \n",
    "        print(':(')\n",
    "        print(\"Fail curr: \", curr_res)\n",
    "        print(\"Fail prev: \", prev_res)\n",
    "        print('=====')\n",
    "        settle['settled_correctly'] = False"
   ]
  },
  {
   "cell_type": "code",
   "execution_count": 20,
   "metadata": {},
   "outputs": [],
   "source": [
    "pool_sets = pd.DataFrame(pool_sets)"
   ]
  },
  {
   "cell_type": "code",
   "execution_count": 21,
   "metadata": {},
   "outputs": [
    {
     "data": {
      "text/html": [
       "<div>\n",
       "<style scoped>\n",
       "    .dataframe tbody tr th:only-of-type {\n",
       "        vertical-align: middle;\n",
       "    }\n",
       "\n",
       "    .dataframe tbody tr th {\n",
       "        vertical-align: top;\n",
       "    }\n",
       "\n",
       "    .dataframe thead th {\n",
       "        text-align: right;\n",
       "    }\n",
       "</style>\n",
       "<table border=\"1\" class=\"dataframe\">\n",
       "  <thead>\n",
       "    <tr style=\"text-align: right;\">\n",
       "      <th></th>\n",
       "      <th>block_hash</th>\n",
       "      <th>block_number</th>\n",
       "      <th>transaction_hash</th>\n",
       "      <th>event_index</th>\n",
       "      <th>from_address</th>\n",
       "      <th>keys</th>\n",
       "      <th>timestamp</th>\n",
       "      <th>key_name</th>\n",
       "      <th>lp_token</th>\n",
       "      <th>side</th>\n",
       "      <th>strike</th>\n",
       "      <th>maturity</th>\n",
       "      <th>price</th>\n",
       "      <th>checkpoint_timestamp</th>\n",
       "      <th>tm_diff</th>\n",
       "      <th>tm_diff_hours</th>\n",
       "      <th>time</th>\n",
       "      <th>option_type</th>\n",
       "      <th>settled_correctly</th>\n",
       "    </tr>\n",
       "  </thead>\n",
       "  <tbody>\n",
       "  </tbody>\n",
       "</table>\n",
       "</div>"
      ],
      "text/plain": [
       "Empty DataFrame\n",
       "Columns: [block_hash, block_number, transaction_hash, event_index, from_address, keys, timestamp, key_name, lp_token, side, strike, maturity, price, checkpoint_timestamp, tm_diff, tm_diff_hours, time, option_type, settled_correctly]\n",
       "Index: []"
      ]
     },
     "execution_count": 21,
     "metadata": {},
     "output_type": "execute_result"
    }
   ],
   "source": [
    "# So it seems like the pools positions were always settled correctly\n",
    "pool_sets[pool_sets['settled_correctly'] != True]"
   ]
  },
  {
   "cell_type": "code",
   "execution_count": 22,
   "metadata": {},
   "outputs": [],
   "source": [
    "# Store correct prices\n",
    "correct_prices = (\n",
    "    pool_sets[(pool_sets['tm_diff_hours']>0) & (pool_sets['tm_diff_hours'] < 2)]\n",
    "        .drop_duplicates(subset = 'maturity')[['maturity', 'price']]\n",
    "        .set_index('maturity')\n",
    "        .to_dict()['price']\n",
    ")"
   ]
  },
  {
   "cell_type": "code",
   "execution_count": 23,
   "metadata": {},
   "outputs": [
    {
     "data": {
      "text/plain": [
       "{1690502399: Decimal('185698750000'),\n",
       " 1689897599: Decimal('189295959355'),\n",
       " 1689292799: Decimal('199634999999'),\n",
       " 1688687999: Decimal('185965250000'),\n",
       " 1688083199: Decimal('185376388188'),\n",
       " 1687478399: Decimal('187489594018'),\n",
       " 1686873599: Decimal('166757789406'),\n",
       " 1686268799: Decimal('184823500000'),\n",
       " 1685663999: Decimal('186833000000'),\n",
       " 1685059199: Decimal('180766093714'),\n",
       " 1683244799: Decimal('187700133191'),\n",
       " 1682035199: Decimal('193971440763'),\n",
       " 1684454399: Decimal('180575000000')}"
      ]
     },
     "execution_count": 23,
     "metadata": {},
     "output_type": "execute_result"
    }
   ],
   "source": [
    "correct_prices"
   ]
  },
  {
   "cell_type": "code",
   "execution_count": 24,
   "metadata": {},
   "outputs": [],
   "source": [
    "# Just make backup in case full data are needed down the road\n",
    "pool_sets_bkp = pool_sets.copy() \n",
    "\n",
    "# Let's just filter settlements with incorrect checkpoints\n",
    "pool_sets = pool_sets[(pool_sets['tm_diff_hours'] > 0) & (pool_sets['tm_diff_hours'] < 2)]\n",
    "\n",
    "# And convert df to records for easier access down the road\n",
    "pool_sets = pool_sets.to_dict('records')"
   ]
  },
  {
   "cell_type": "code",
   "execution_count": null,
   "metadata": {},
   "outputs": [],
   "source": [
    "# pool_sets_bkp.to_csv('pool_sets_bkp.csv')"
   ]
  },
  {
   "attachments": {},
   "cell_type": "markdown",
   "metadata": {},
   "source": [
    "### User settlements\n",
    "- First pull checkpoint from the same (and previous) block which user has settled their position in. Then compare it against the price of the checkpoint which pool has used to settle their option. If it's the same then thats good, if not then it's fukd."
   ]
  },
  {
   "cell_type": "code",
   "execution_count": 25,
   "metadata": {},
   "outputs": [],
   "source": [
    "_user_sets = events[events['key_name'] == 'TradeSettle'].copy()"
   ]
  },
  {
   "cell_type": "code",
   "execution_count": 26,
   "metadata": {},
   "outputs": [],
   "source": [
    "# Expand data column which stores event info\n",
    "_user_sets['caller'] = [i[0] for i in _user_sets['data']]\n",
    "_user_sets['opt_addr'] = [int(i[1], 16) for i in _user_sets['data']]\n",
    "_user_sets['capital_transfered'] = [Decimal(int(i[2], 16)) for i in _user_sets['data']]\n",
    "_user_sets['opt_burned'] = [Decimal(int(i[4], 16)) for i in _user_sets['data']]\n",
    "\n",
    "_user_sets = _user_sets.drop('data', axis = 1)"
   ]
  },
  {
   "cell_type": "code",
   "execution_count": 27,
   "metadata": {},
   "outputs": [],
   "source": [
    "_user_sets = _user_sets.to_dict('records') # For easier iteration"
   ]
  },
  {
   "cell_type": "code",
   "execution_count": 28,
   "metadata": {},
   "outputs": [
    {
     "data": {
      "text/plain": [
       "{'block_hash': '0x0203ddac0db060f54390c9418b6cbd823be7c2b777dfa078bfef0b420c9f9328',\n",
       " 'block_number': 136184,\n",
       " 'transaction_hash': '0x0613cfae5420a03f3743df3c87ae4ab4b25dcb0f74cde0c1995536dcb484a6f7',\n",
       " 'event_index': 2,\n",
       " 'from_address': '0x076dbabc4293db346b0a56b29b6ea9fe18e93742c73f12348c8747ecfc1050aa',\n",
       " 'keys': ['0x1b012be10df8edf74fad801c1ee1f65a229fd1ca889edd3b375bc3240777124'],\n",
       " 'timestamp': 1690778613,\n",
       " 'key_name': 'TradeSettle',\n",
       " 'caller': '0x18c9b09701296925480e4464d7f46eec9507feefc2df5d2cd5a5d05a0cea683',\n",
       " 'opt_addr': 3108252820798498058769758588913584259610781601970447807813391789746798662574,\n",
       " 'capital_transfered': Decimal('2150624'),\n",
       " 'opt_burned': Decimal('50000000000000000')}"
      ]
     },
     "execution_count": 28,
     "metadata": {},
     "output_type": "execute_result"
    }
   ],
   "source": [
    "_user_sets[1]"
   ]
  },
  {
   "cell_type": "code",
   "execution_count": null,
   "metadata": {},
   "outputs": [],
   "source": [
    "PRAGMA = 0x0346c57f094d641ad94e43468628d8e9c574dcb2803ec372576ccc60a40be2c4\n",
    "selector = 'get_last_spot_checkpoint_before'\n",
    "ETH_KEY = 19514442401534788\n",
    "\n",
    "# Iterate over the user settlements and add checkpoint timestamp/price that \n",
    "# would be received in the same and previous/next block\n",
    "for ix, settle in enumerate(_user_sets):\n",
    "\n",
    "    print(f'Progress: {(ix+1) / len(_user_sets):_.2%}, {ix}')\n",
    "    \n",
    "    # User settlement event do not come with maturity etc so let's add it\n",
    "    for opt in opts:\n",
    "        if hex(int(opt['option_address'], 0)) == hex(settle['opt_addr']):\n",
    "            settle['maturity'] = opt['maturity']\n",
    "            settle['side'] = opt['option_side']\n",
    "            settle['strike'] = opt['strike_price']\n",
    "            settle['option_type'] = opt['option_type']\n",
    "\n",
    "    # Also let's add the correct price of settlement\n",
    "    settle['pool_price'] = correct_prices[settle['maturity']]\n",
    "    \n",
    "    while True:\n",
    "        try: \n",
    "            curr_res = await func_call_from_block( # Checkpoint in current block\n",
    "                PRAGMA, # Address\n",
    "                selector, # Selector\n",
    "                [ETH_KEY, settle['maturity']], # Calldata - pair_id / timestamp(maturity in this case)\n",
    "                None, # Note, not needed rn\n",
    "                settle['block_number'] # Block number from which to retrieve the data\n",
    "            )\n",
    "            prev_res = await func_call_from_block( # Checkpoint in previous block\n",
    "                PRAGMA,\n",
    "                selector, \n",
    "                [ETH_KEY, settle['maturity']], \n",
    "                None, \n",
    "                settle['block_number'] - 1 \n",
    "            )\n",
    "            next_res = await func_call_from_block( # Checkpoint in next block\n",
    "                PRAGMA, \n",
    "                selector, \n",
    "                [ETH_KEY, settle['maturity']], \n",
    "                None, \n",
    "                settle['block_number'] + 1 \n",
    "            )\n",
    "\n",
    "            break\n",
    "        except KeyboardInterrupt:\n",
    "            raise SystemExit\n",
    "        except Exception as e:\n",
    "            # print(e)\n",
    "            print('repeating: ', ix)\n",
    "            time.sleep(1)\n",
    "            continue\n",
    "    \n",
    "    settle['curr_price'] = Decimal(curr_res[1][1])\n",
    "    settle['curr_checkpoint_timestamp'] = curr_res[1][0]\n",
    "\n",
    "    settle['prev_price'] = Decimal(prev_res[1][1])\n",
    "    settle['prev_checkpoint_timestamp'] = prev_res[1][0]\n",
    "    \n",
    "    settle['next_price'] = Decimal(next_res[1][1])\n",
    "    settle['next_checkpoint_timestamp'] = next_res[1][0]\n",
    "\n",
    "    time.sleep(0.4)"
   ]
  },
  {
   "cell_type": "code",
   "execution_count": 30,
   "metadata": {},
   "outputs": [],
   "source": [
    "user_sets = pd.DataFrame(_user_sets)"
   ]
  },
  {
   "cell_type": "code",
   "execution_count": 31,
   "metadata": {},
   "outputs": [
    {
     "data": {
      "text/html": [
       "<div>\n",
       "<style scoped>\n",
       "    .dataframe tbody tr th:only-of-type {\n",
       "        vertical-align: middle;\n",
       "    }\n",
       "\n",
       "    .dataframe tbody tr th {\n",
       "        vertical-align: top;\n",
       "    }\n",
       "\n",
       "    .dataframe thead th {\n",
       "        text-align: right;\n",
       "    }\n",
       "</style>\n",
       "<table border=\"1\" class=\"dataframe\">\n",
       "  <thead>\n",
       "    <tr style=\"text-align: right;\">\n",
       "      <th></th>\n",
       "      <th>block_hash</th>\n",
       "      <th>block_number</th>\n",
       "      <th>transaction_hash</th>\n",
       "      <th>event_index</th>\n",
       "      <th>from_address</th>\n",
       "      <th>keys</th>\n",
       "      <th>timestamp</th>\n",
       "      <th>key_name</th>\n",
       "      <th>caller</th>\n",
       "      <th>opt_addr</th>\n",
       "      <th>capital_transfered</th>\n",
       "      <th>opt_burned</th>\n",
       "      <th>maturity</th>\n",
       "      <th>side</th>\n",
       "      <th>strike</th>\n",
       "      <th>option_type</th>\n",
       "      <th>pool_price</th>\n",
       "      <th>curr_price</th>\n",
       "      <th>curr_checkpoint_timestamp</th>\n",
       "      <th>prev_price</th>\n",
       "      <th>prev_checkpoint_timestamp</th>\n",
       "      <th>next_price</th>\n",
       "      <th>next_checkpoint_timestamp</th>\n",
       "    </tr>\n",
       "  </thead>\n",
       "  <tbody>\n",
       "    <tr>\n",
       "      <th>0</th>\n",
       "      <td>0x03118b4c095d386a50b93a0950a54aef7a9164159f51cceefc072721ff946a80</td>\n",
       "      <td>136699</td>\n",
       "      <td>0x03437ed02747b7258114033cd785e7fed3e44551e17325df4b18d0bb873d287d</td>\n",
       "      <td>2</td>\n",
       "      <td>0x076dbabc4293db346b0a56b29b6ea9fe18e93742c73f12348c8747ecfc1050aa</td>\n",
       "      <td>[0x1b012be10df8edf74fad801c1ee1f65a229fd1ca889edd3b375bc3240777124]</td>\n",
       "      <td>1690800408</td>\n",
       "      <td>TradeSettle</td>\n",
       "      <td>0x382ddc2625629d2aaabd6f032f53353ab9930c4a2a7ebe50a3a308e51badc36</td>\n",
       "      <td>512606146535035406613588731157100718044554687953824380160684396980085738440</td>\n",
       "      <td>599999999999999999</td>\n",
       "      <td>600000000000000000</td>\n",
       "      <td>1690502399</td>\n",
       "      <td>1</td>\n",
       "      <td>4611686018427387904000</td>\n",
       "      <td>0</td>\n",
       "      <td>185698750000</td>\n",
       "      <td>185698750000</td>\n",
       "      <td>1690500472</td>\n",
       "      <td>185698750000</td>\n",
       "      <td>1690500472</td>\n",
       "      <td>185698750000</td>\n",
       "      <td>1690500472</td>\n",
       "    </tr>\n",
       "    <tr>\n",
       "      <th>1</th>\n",
       "      <td>0x0203ddac0db060f54390c9418b6cbd823be7c2b777dfa078bfef0b420c9f9328</td>\n",
       "      <td>136184</td>\n",
       "      <td>0x0613cfae5420a03f3743df3c87ae4ab4b25dcb0f74cde0c1995536dcb484a6f7</td>\n",
       "      <td>2</td>\n",
       "      <td>0x076dbabc4293db346b0a56b29b6ea9fe18e93742c73f12348c8747ecfc1050aa</td>\n",
       "      <td>[0x1b012be10df8edf74fad801c1ee1f65a229fd1ca889edd3b375bc3240777124]</td>\n",
       "      <td>1690778613</td>\n",
       "      <td>TradeSettle</td>\n",
       "      <td>0x18c9b09701296925480e4464d7f46eec9507feefc2df5d2cd5a5d05a0cea683</td>\n",
       "      <td>3108252820798498058769758588913584259610781601970447807813391789746798662574</td>\n",
       "      <td>2150624</td>\n",
       "      <td>50000000000000000</td>\n",
       "      <td>1690502399</td>\n",
       "      <td>0</td>\n",
       "      <td>4381101717506018508800</td>\n",
       "      <td>1</td>\n",
       "      <td>185698750000</td>\n",
       "      <td>185698750000</td>\n",
       "      <td>1690500472</td>\n",
       "      <td>185698750000</td>\n",
       "      <td>1690500472</td>\n",
       "      <td>185698750000</td>\n",
       "      <td>1690500472</td>\n",
       "    </tr>\n",
       "    <tr>\n",
       "      <th>2</th>\n",
       "      <td>0x043f2e3d10e2401481ea62dd5281352d724d093c429386b62d0d17604654eb6e</td>\n",
       "      <td>136034</td>\n",
       "      <td>0x07698cee0a3604f3d1b3273cf53cd8d228958cd3603372942eb8846fc5fb48e5</td>\n",
       "      <td>2</td>\n",
       "      <td>0x076dbabc4293db346b0a56b29b6ea9fe18e93742c73f12348c8747ecfc1050aa</td>\n",
       "      <td>[0x1b012be10df8edf74fad801c1ee1f65a229fd1ca889edd3b375bc3240777124]</td>\n",
       "      <td>1690770494</td>\n",
       "      <td>TradeSettle</td>\n",
       "      <td>0x79cb8b800ed7ea51635e0da7ffff66caedab80fee194f0dfd9c7be4c3948929</td>\n",
       "      <td>18392177853797718284672388600717979808133134892588090837118818709377857977</td>\n",
       "      <td>0</td>\n",
       "      <td>2000000000000000</td>\n",
       "      <td>1689292799</td>\n",
       "      <td>0</td>\n",
       "      <td>4611686018427387904000</td>\n",
       "      <td>0</td>\n",
       "      <td>199634999999</td>\n",
       "      <td>199634999999</td>\n",
       "      <td>1689290873</td>\n",
       "      <td>199634999999</td>\n",
       "      <td>1689290873</td>\n",
       "      <td>199634999999</td>\n",
       "      <td>1689290873</td>\n",
       "    </tr>\n",
       "    <tr>\n",
       "      <th>3</th>\n",
       "      <td>0x038d1cb92533e90cf54bae03766f5ac08e6d1dfd8d19603c71b12e56d0f54158</td>\n",
       "      <td>135914</td>\n",
       "      <td>0x065c0d47b046ba9d156b6ed590e40dba449342da30a74bd71f43e4967b2dba5a</td>\n",
       "      <td>2</td>\n",
       "      <td>0x076dbabc4293db346b0a56b29b6ea9fe18e93742c73f12348c8747ecfc1050aa</td>\n",
       "      <td>[0x1b012be10df8edf74fad801c1ee1f65a229fd1ca889edd3b375bc3240777124]</td>\n",
       "      <td>1690759809</td>\n",
       "      <td>TradeSettle</td>\n",
       "      <td>0x7fb63b1f935ebdd313d67f813727697f97358e6ac14611c6637d58aa96a2a78</td>\n",
       "      <td>3108252820798498058769758588913584259610781601970447807813391789746798662574</td>\n",
       "      <td>860249</td>\n",
       "      <td>20000000000000000</td>\n",
       "      <td>1690502399</td>\n",
       "      <td>0</td>\n",
       "      <td>4381101717506018508800</td>\n",
       "      <td>1</td>\n",
       "      <td>185698750000</td>\n",
       "      <td>185698750000</td>\n",
       "      <td>1690500472</td>\n",
       "      <td>185698750000</td>\n",
       "      <td>1690500472</td>\n",
       "      <td>185698750000</td>\n",
       "      <td>1690500472</td>\n",
       "    </tr>\n",
       "    <tr>\n",
       "      <th>4</th>\n",
       "      <td>0x038d1cb92533e90cf54bae03766f5ac08e6d1dfd8d19603c71b12e56d0f54158</td>\n",
       "      <td>135914</td>\n",
       "      <td>0x07237b07af3d7e8b4a791820e46a3cd06e8ec53b099028d81c6eb7629bea0832</td>\n",
       "      <td>2</td>\n",
       "      <td>0x076dbabc4293db346b0a56b29b6ea9fe18e93742c73f12348c8747ecfc1050aa</td>\n",
       "      <td>[0x1b012be10df8edf74fad801c1ee1f65a229fd1ca889edd3b375bc3240777124]</td>\n",
       "      <td>1690759809</td>\n",
       "      <td>TradeSettle</td>\n",
       "      <td>0x7fb63b1f935ebdd313d67f813727697f97358e6ac14611c6637d58aa96a2a78</td>\n",
       "      <td>901764646050036611057278582447568327155978676050043336635190293075884933316</td>\n",
       "      <td>0</td>\n",
       "      <td>26000000000000000</td>\n",
       "      <td>1684454399</td>\n",
       "      <td>0</td>\n",
       "      <td>4150517416584649113600</td>\n",
       "      <td>1</td>\n",
       "      <td>180575000000</td>\n",
       "      <td>180575000000</td>\n",
       "      <td>1684452462</td>\n",
       "      <td>180575000000</td>\n",
       "      <td>1684452462</td>\n",
       "      <td>180575000000</td>\n",
       "      <td>1684452462</td>\n",
       "    </tr>\n",
       "  </tbody>\n",
       "</table>\n",
       "</div>"
      ],
      "text/plain": [
       "                                                           block_hash  block_number                                                    transaction_hash  event_index                                                        from_address                                                                 keys   timestamp     key_name                                                             caller                                                                      opt_addr  capital_transfered          opt_burned    maturity  side                  strike  option_type    pool_price    curr_price  curr_checkpoint_timestamp    prev_price  prev_checkpoint_timestamp    next_price  next_checkpoint_timestamp\n",
       "0  0x03118b4c095d386a50b93a0950a54aef7a9164159f51cceefc072721ff946a80        136699  0x03437ed02747b7258114033cd785e7fed3e44551e17325df4b18d0bb873d287d            2  0x076dbabc4293db346b0a56b29b6ea9fe18e93742c73f12348c8747ecfc1050aa  [0x1b012be10df8edf74fad801c1ee1f65a229fd1ca889edd3b375bc3240777124]  1690800408  TradeSettle  0x382ddc2625629d2aaabd6f032f53353ab9930c4a2a7ebe50a3a308e51badc36   512606146535035406613588731157100718044554687953824380160684396980085738440  599999999999999999  600000000000000000  1690502399     1  4611686018427387904000            0  185698750000  185698750000                 1690500472  185698750000                 1690500472  185698750000                 1690500472\n",
       "1  0x0203ddac0db060f54390c9418b6cbd823be7c2b777dfa078bfef0b420c9f9328        136184  0x0613cfae5420a03f3743df3c87ae4ab4b25dcb0f74cde0c1995536dcb484a6f7            2  0x076dbabc4293db346b0a56b29b6ea9fe18e93742c73f12348c8747ecfc1050aa  [0x1b012be10df8edf74fad801c1ee1f65a229fd1ca889edd3b375bc3240777124]  1690778613  TradeSettle  0x18c9b09701296925480e4464d7f46eec9507feefc2df5d2cd5a5d05a0cea683  3108252820798498058769758588913584259610781601970447807813391789746798662574             2150624   50000000000000000  1690502399     0  4381101717506018508800            1  185698750000  185698750000                 1690500472  185698750000                 1690500472  185698750000                 1690500472\n",
       "2  0x043f2e3d10e2401481ea62dd5281352d724d093c429386b62d0d17604654eb6e        136034  0x07698cee0a3604f3d1b3273cf53cd8d228958cd3603372942eb8846fc5fb48e5            2  0x076dbabc4293db346b0a56b29b6ea9fe18e93742c73f12348c8747ecfc1050aa  [0x1b012be10df8edf74fad801c1ee1f65a229fd1ca889edd3b375bc3240777124]  1690770494  TradeSettle  0x79cb8b800ed7ea51635e0da7ffff66caedab80fee194f0dfd9c7be4c3948929    18392177853797718284672388600717979808133134892588090837118818709377857977                   0    2000000000000000  1689292799     0  4611686018427387904000            0  199634999999  199634999999                 1689290873  199634999999                 1689290873  199634999999                 1689290873\n",
       "3  0x038d1cb92533e90cf54bae03766f5ac08e6d1dfd8d19603c71b12e56d0f54158        135914  0x065c0d47b046ba9d156b6ed590e40dba449342da30a74bd71f43e4967b2dba5a            2  0x076dbabc4293db346b0a56b29b6ea9fe18e93742c73f12348c8747ecfc1050aa  [0x1b012be10df8edf74fad801c1ee1f65a229fd1ca889edd3b375bc3240777124]  1690759809  TradeSettle  0x7fb63b1f935ebdd313d67f813727697f97358e6ac14611c6637d58aa96a2a78  3108252820798498058769758588913584259610781601970447807813391789746798662574              860249   20000000000000000  1690502399     0  4381101717506018508800            1  185698750000  185698750000                 1690500472  185698750000                 1690500472  185698750000                 1690500472\n",
       "4  0x038d1cb92533e90cf54bae03766f5ac08e6d1dfd8d19603c71b12e56d0f54158        135914  0x07237b07af3d7e8b4a791820e46a3cd06e8ec53b099028d81c6eb7629bea0832            2  0x076dbabc4293db346b0a56b29b6ea9fe18e93742c73f12348c8747ecfc1050aa  [0x1b012be10df8edf74fad801c1ee1f65a229fd1ca889edd3b375bc3240777124]  1690759809  TradeSettle  0x7fb63b1f935ebdd313d67f813727697f97358e6ac14611c6637d58aa96a2a78   901764646050036611057278582447568327155978676050043336635190293075884933316                   0   26000000000000000  1684454399     0  4150517416584649113600            1  180575000000  180575000000                 1684452462  180575000000                 1684452462  180575000000                 1684452462"
      ]
     },
     "execution_count": 31,
     "metadata": {},
     "output_type": "execute_result"
    }
   ],
   "source": [
    "user_sets.head()"
   ]
  },
  {
   "cell_type": "code",
   "execution_count": 32,
   "metadata": {},
   "outputs": [
    {
     "data": {
      "text/plain": [
       "True"
      ]
     },
     "execution_count": 32,
     "metadata": {},
     "output_type": "execute_result"
    }
   ],
   "source": [
    "# Make sure that checkpoint price was the same for previous and next block compared to current one\n",
    "(\n",
    "    (user_sets['curr_price'] == user_sets['prev_price']) & \n",
    "    (user_sets['curr_price'] == user_sets['next_price'])\n",
    ").sum() == len(user_sets)"
   ]
  },
  {
   "cell_type": "code",
   "execution_count": 33,
   "metadata": {},
   "outputs": [
    {
     "data": {
      "text/plain": [
       "True"
      ]
     },
     "execution_count": 33,
     "metadata": {},
     "output_type": "execute_result"
    }
   ],
   "source": [
    "# Make sure that checkpoint timestamp was the same for previous a next block compared to current one\n",
    "(\n",
    "    (user_sets['curr_checkpoint_timestamp'] == user_sets['prev_checkpoint_timestamp']) & \n",
    "    (user_sets['curr_checkpoint_timestamp'] == user_sets['next_checkpoint_timestamp'])\n",
    ").sum() == len(user_sets)"
   ]
  },
  {
   "cell_type": "code",
   "execution_count": 35,
   "metadata": {},
   "outputs": [],
   "source": [
    "user_sets['curr_chkp_tm_diff_hours'] = (user_sets['maturity'] - user_sets['curr_checkpoint_timestamp'])/3600"
   ]
  },
  {
   "cell_type": "code",
   "execution_count": 36,
   "metadata": {},
   "outputs": [
    {
     "data": {
      "text/plain": [
       "count    732.000000\n",
       "mean      -5.261006\n",
       "std       22.410130\n",
       "min     -167.001667\n",
       "25%        0.535000\n",
       "50%        0.535278\n",
       "75%        0.538056\n",
       "max        1.235000\n",
       "Name: curr_chkp_tm_diff_hours, dtype: float64"
      ]
     },
     "execution_count": 36,
     "metadata": {},
     "output_type": "execute_result"
    }
   ],
   "source": [
    "user_sets['curr_chkp_tm_diff_hours'].describe()"
   ]
  },
  {
   "cell_type": "code",
   "execution_count": 37,
   "metadata": {},
   "outputs": [
    {
     "data": {
      "text/plain": [
       "<Axes: ylabel='Frequency'>"
      ]
     },
     "execution_count": 37,
     "metadata": {},
     "output_type": "execute_result"
    },
    {
     "data": {
      "image/png": "[encoded data removed]",
      "text/plain": [
       "<Figure size 640x480 with 1 Axes>"
      ]
     },
     "metadata": {},
     "output_type": "display_data"
    }
   ],
   "source": [
    "user_sets['curr_chkp_tm_diff_hours'].plot.hist(bins=50)"
   ]
  },
  {
   "cell_type": "code",
   "execution_count": 38,
   "metadata": {},
   "outputs": [
    {
     "data": {
      "text/plain": [
       "Decimal('0')"
      ]
     },
     "execution_count": 38,
     "metadata": {},
     "output_type": "execute_result"
    }
   ],
   "source": [
    "# Just a quick check that every settlement with good checkpoint had correct price\n",
    "tmp = user_sets[user_sets['curr_chkp_tm_diff_hours'] >= 0]\n",
    "\n",
    "(tmp['pool_price']  - tmp['curr_price']).sum()"
   ]
  },
  {
   "cell_type": "code",
   "execution_count": 83,
   "metadata": {},
   "outputs": [],
   "source": [
    "# user_sets.to_csv('user_sets.csv')"
   ]
  },
  {
   "cell_type": "code",
   "execution_count": 39,
   "metadata": {},
   "outputs": [],
   "source": [
    "user_bad_sets = user_sets[user_sets['curr_chkp_tm_diff_hours'] < 0].copy()"
   ]
  },
  {
   "cell_type": "code",
   "execution_count": 40,
   "metadata": {},
   "outputs": [
    {
     "data": {
      "text/plain": [
       "count     97.000000\n",
       "mean     -43.542655\n",
       "std       46.010073\n",
       "min     -167.001667\n",
       "25%      -23.461944\n",
       "50%      -23.001667\n",
       "75%      -23.001389\n",
       "max      -23.001389\n",
       "Name: curr_chkp_tm_diff_hours, dtype: float64"
      ]
     },
     "execution_count": 40,
     "metadata": {},
     "output_type": "execute_result"
    }
   ],
   "source": [
    "user_bad_sets['curr_chkp_tm_diff_hours'].describe()"
   ]
  },
  {
   "cell_type": "code",
   "execution_count": 41,
   "metadata": {},
   "outputs": [],
   "source": [
    "user_bad_sets['pool_price_diff'] = user_bad_sets['pool_price'] - user_bad_sets['curr_price']"
   ]
  },
  {
   "cell_type": "code",
   "execution_count": 42,
   "metadata": {},
   "outputs": [
    {
     "name": "stdout",
     "output_type": "stream",
     "text": [
      "763000000\n"
     ]
    },
    {
     "data": {
      "text/html": [
       "<div>\n",
       "<style scoped>\n",
       "    .dataframe tbody tr th:only-of-type {\n",
       "        vertical-align: middle;\n",
       "    }\n",
       "\n",
       "    .dataframe tbody tr th {\n",
       "        vertical-align: top;\n",
       "    }\n",
       "\n",
       "    .dataframe thead th {\n",
       "        text-align: right;\n",
       "    }\n",
       "</style>\n",
       "<table border=\"1\" class=\"dataframe\">\n",
       "  <thead>\n",
       "    <tr style=\"text-align: right;\">\n",
       "      <th></th>\n",
       "      <th>block_hash</th>\n",
       "      <th>block_number</th>\n",
       "      <th>transaction_hash</th>\n",
       "      <th>event_index</th>\n",
       "      <th>from_address</th>\n",
       "      <th>keys</th>\n",
       "      <th>timestamp</th>\n",
       "      <th>key_name</th>\n",
       "      <th>caller</th>\n",
       "      <th>opt_addr</th>\n",
       "      <th>capital_transfered</th>\n",
       "      <th>opt_burned</th>\n",
       "      <th>maturity</th>\n",
       "      <th>side</th>\n",
       "      <th>strike</th>\n",
       "      <th>option_type</th>\n",
       "      <th>pool_price</th>\n",
       "      <th>curr_price</th>\n",
       "      <th>curr_checkpoint_timestamp</th>\n",
       "      <th>prev_price</th>\n",
       "      <th>prev_checkpoint_timestamp</th>\n",
       "      <th>next_price</th>\n",
       "      <th>next_checkpoint_timestamp</th>\n",
       "      <th>curr_chkp_tm_diff_hours</th>\n",
       "      <th>pool_price_diff</th>\n",
       "    </tr>\n",
       "  </thead>\n",
       "  <tbody>\n",
       "  </tbody>\n",
       "</table>\n",
       "</div>"
      ],
      "text/plain": [
       "Empty DataFrame\n",
       "Columns: [block_hash, block_number, transaction_hash, event_index, from_address, keys, timestamp, key_name, caller, opt_addr, capital_transfered, opt_burned, maturity, side, strike, option_type, pool_price, curr_price, curr_checkpoint_timestamp, prev_price, prev_checkpoint_timestamp, next_price, next_checkpoint_timestamp, curr_chkp_tm_diff_hours, pool_price_diff]\n",
       "Index: []"
      ]
     },
     "execution_count": 42,
     "metadata": {},
     "output_type": "execute_result"
    }
   ],
   "source": [
    "# There is no incorrectly settled trade that would accidentally happen to have the same price as pool :(((\n",
    "print(abs(user_bad_sets['pool_price_diff']).min())\n",
    "user_bad_sets[user_bad_sets['pool_price_diff'] == 0]"
   ]
  },
  {
   "cell_type": "code",
   "execution_count": 43,
   "metadata": {},
   "outputs": [],
   "source": [
    "user_bad_sets = user_bad_sets.to_dict('records')"
   ]
  },
  {
   "cell_type": "code",
   "execution_count": 44,
   "metadata": {},
   "outputs": [],
   "source": [
    "# We can filter out some more stuff\n",
    "user_loss_sets = []\n",
    "for settle in user_bad_sets:\n",
    "    \n",
    "    if settle['option_type'] == 0: # Call\n",
    "        if ((settle['curr_price'] / PRAGMA_MULT) < (settle['strike'] / FRACT_PART)) and ((settle['pool_price'] / PRAGMA_MULT) < (settle['strike'] / FRACT_PART)):\n",
    "            # In this case user might've received incorrect price but\n",
    "            # since the correct price was under the strike as well then we don't really care\n",
    "            # since correct price wouldn't change the outcome anyway\n",
    "            # For long call, user would've already paid the premia and since the option expired OTM,\n",
    "            # There is nothing we would've paid to anyway\n",
    "            # If the user was short, then he already paid the premia and the capital they put into \n",
    "            # the pool would've been released to them no matter how low the price was below the strike\n",
    "            continue\n",
    "        else:\n",
    "            user_loss_sets.append(settle)\n",
    "    \n",
    "    elif settle['option_type'] == 1: # Put\n",
    "        if ((settle['curr_price'] / PRAGMA_MULT) > (settle['strike'] / FRACT_PART)) and ((settle['pool_price'] / PRAGMA_MULT) > (settle['strike'] / FRACT_PART)):\n",
    "            # In this case we again don't care since long put user would not receive anythig anyway\n",
    "            # While short put user would receive all of their capital back no matter how much the price is above the strike\n",
    "            continue\n",
    "        else:\n",
    "            user_loss_sets.append(settle)\n",
    "    else:\n",
    "        print(\"How did we get here?\")\n",
    "\n"
   ]
  },
  {
   "cell_type": "code",
   "execution_count": 45,
   "metadata": {},
   "outputs": [],
   "source": [
    "user_loss_sets = pd.DataFrame(user_loss_sets)"
   ]
  },
  {
   "cell_type": "code",
   "execution_count": 46,
   "metadata": {},
   "outputs": [],
   "source": [
    "def get_payoff(row: pd.Series, price: str):\n",
    "\n",
    "    if row['option_type'] == 0: # Call\n",
    "        if row['side'] == 0: # Long\n",
    "            return (row['opt_burned'] / OPT_MULT) * max(0, ((row[price] / PRAGMA_MULT) - (row['strike'])/FRACT_PART) / (row[price] / PRAGMA_MULT)) * ETH_MULT\n",
    "        elif row['side'] == 1: # Short\n",
    "            return (row['opt_burned'] / OPT_MULT) * (1 - max(0, ((row[price] / PRAGMA_MULT) - (row['strike']) / FRACT_PART) / (row[price] / PRAGMA_MULT))) * ETH_MULT\n",
    "        else:\n",
    "            print(\"How did we get here?\")\n",
    "    \n",
    "    elif row['option_type'] == 1: # Put\n",
    "        if row['side'] == 0: # Long\n",
    "            return (row['opt_burned'] / OPT_MULT) * max(0, (row['strike'] / FRACT_PART) - (row[price] / PRAGMA_MULT)) * USDC_MULT\n",
    "        elif row['side'] == 1: # Short\n",
    "            return (row['opt_burned'] / OPT_MULT) * min((row['strike'] / FRACT_PART), (row[price] / PRAGMA_MULT)) * USDC_MULT\n",
    "        else: \n",
    "            print('How did we get here?')\n",
    "    else:\n",
    "        print('How did we get here?')"
   ]
  },
  {
   "cell_type": "code",
   "execution_count": 47,
   "metadata": {},
   "outputs": [],
   "source": [
    "user_loss_sets['calc_received_payoff'] = user_loss_sets.apply(lambda x: get_payoff(x, 'curr_price'), axis = 1)\n",
    "user_loss_sets['should_receive_payoff'] = user_loss_sets.apply(lambda x: get_payoff(x, 'pool_price'), axis = 1)\n",
    "# user_loss_sets['capital_transfered'] = user_loss_sets.apply(lambda x: x['capital_transfered'] / 10**18 if x['option_type'] == 0 else x['capital_transfered'] / 10**6, axis = 1)"
   ]
  },
  {
   "cell_type": "code",
   "execution_count": 48,
   "metadata": {},
   "outputs": [],
   "source": [
    "user_loss_sets['calc_received_payoff'] = user_loss_sets['calc_received_payoff'].map(lambda x: x.quantize(Decimal('1.'), ROUND_DOWN))\n",
    "user_loss_sets['should_receive_payoff'] = user_loss_sets['should_receive_payoff'].map(lambda x: x.quantize(Decimal('1.'), ROUND_DOWN))"
   ]
  },
  {
   "cell_type": "code",
   "execution_count": 49,
   "metadata": {},
   "outputs": [
    {
     "data": {
      "text/html": [
       "<div>\n",
       "<style scoped>\n",
       "    .dataframe tbody tr th:only-of-type {\n",
       "        vertical-align: middle;\n",
       "    }\n",
       "\n",
       "    .dataframe tbody tr th {\n",
       "        vertical-align: top;\n",
       "    }\n",
       "\n",
       "    .dataframe thead th {\n",
       "        text-align: right;\n",
       "    }\n",
       "</style>\n",
       "<table border=\"1\" class=\"dataframe\">\n",
       "  <thead>\n",
       "    <tr style=\"text-align: right;\">\n",
       "      <th></th>\n",
       "      <th>side</th>\n",
       "      <th>option_type</th>\n",
       "      <th>maturity</th>\n",
       "      <th>strike</th>\n",
       "      <th>curr_price</th>\n",
       "      <th>pool_price</th>\n",
       "      <th>opt_burned</th>\n",
       "      <th>capital_transfered</th>\n",
       "      <th>calc_received_payoff</th>\n",
       "      <th>should_receive_payoff</th>\n",
       "    </tr>\n",
       "  </thead>\n",
       "  <tbody>\n",
       "    <tr>\n",
       "      <th>0</th>\n",
       "      <td>0</td>\n",
       "      <td>0</td>\n",
       "      <td>1687478399</td>\n",
       "      <td>4150517416584649113600</td>\n",
       "      <td>189307847241</td>\n",
       "      <td>187489594018</td>\n",
       "      <td>100000000000000000</td>\n",
       "      <td>4916778346304135</td>\n",
       "      <td>4916778346304136</td>\n",
       "      <td>3994671841510819</td>\n",
       "    </tr>\n",
       "    <tr>\n",
       "      <th>1</th>\n",
       "      <td>0</td>\n",
       "      <td>0</td>\n",
       "      <td>1687478399</td>\n",
       "      <td>3919933115663279718400</td>\n",
       "      <td>189307847241</td>\n",
       "      <td>187489594018</td>\n",
       "      <td>1000000000000000</td>\n",
       "      <td>101991795492872</td>\n",
       "      <td>101991795492872</td>\n",
       "      <td>93283011836491</td>\n",
       "    </tr>\n",
       "    <tr>\n",
       "      <th>2</th>\n",
       "      <td>0</td>\n",
       "      <td>0</td>\n",
       "      <td>1686873599</td>\n",
       "      <td>4150517416584649113600</td>\n",
       "      <td>187520500000</td>\n",
       "      <td>166757789406</td>\n",
       "      <td>1000000000000000000</td>\n",
       "      <td>40104948525627864</td>\n",
       "      <td>40104948525627864</td>\n",
       "      <td>0</td>\n",
       "    </tr>\n",
       "    <tr>\n",
       "      <th>3</th>\n",
       "      <td>0</td>\n",
       "      <td>0</td>\n",
       "      <td>1686873599</td>\n",
       "      <td>4150517416584649113600</td>\n",
       "      <td>187520500000</td>\n",
       "      <td>166757789406</td>\n",
       "      <td>9000000000000000000</td>\n",
       "      <td>360944536730650781</td>\n",
       "      <td>360944536730650782</td>\n",
       "      <td>0</td>\n",
       "    </tr>\n",
       "    <tr>\n",
       "      <th>4</th>\n",
       "      <td>1</td>\n",
       "      <td>1</td>\n",
       "      <td>1686873599</td>\n",
       "      <td>4150517416584649113600</td>\n",
       "      <td>187520500000</td>\n",
       "      <td>166757789406</td>\n",
       "      <td>1000000000000000000</td>\n",
       "      <td>1800000000</td>\n",
       "      <td>1800000000</td>\n",
       "      <td>1667577894</td>\n",
       "    </tr>\n",
       "    <tr>\n",
       "      <th>5</th>\n",
       "      <td>0</td>\n",
       "      <td>0</td>\n",
       "      <td>1686873599</td>\n",
       "      <td>4150517416584649113600</td>\n",
       "      <td>187520500000</td>\n",
       "      <td>166757789406</td>\n",
       "      <td>10000000000000000</td>\n",
       "      <td>401049485256278</td>\n",
       "      <td>401049485256278</td>\n",
       "      <td>0</td>\n",
       "    </tr>\n",
       "    <tr>\n",
       "      <th>6</th>\n",
       "      <td>0</td>\n",
       "      <td>0</td>\n",
       "      <td>1685059199</td>\n",
       "      <td>4150517416584649113600</td>\n",
       "      <td>182871201931</td>\n",
       "      <td>180766093714</td>\n",
       "      <td>3000000000000000</td>\n",
       "      <td>47102035214106</td>\n",
       "      <td>47102035214106</td>\n",
       "      <td>12714116318938</td>\n",
       "    </tr>\n",
       "    <tr>\n",
       "      <th>7</th>\n",
       "      <td>0</td>\n",
       "      <td>0</td>\n",
       "      <td>1686268799</td>\n",
       "      <td>4150517416584649113600</td>\n",
       "      <td>174525860087</td>\n",
       "      <td>184823500000</td>\n",
       "      <td>1000000000000000</td>\n",
       "      <td>0</td>\n",
       "      <td>0</td>\n",
       "      <td>26097871753321</td>\n",
       "    </tr>\n",
       "    <tr>\n",
       "      <th>8</th>\n",
       "      <td>0</td>\n",
       "      <td>0</td>\n",
       "      <td>1686268799</td>\n",
       "      <td>4150517416584649113600</td>\n",
       "      <td>174525860087</td>\n",
       "      <td>184823500000</td>\n",
       "      <td>1000000000000000</td>\n",
       "      <td>0</td>\n",
       "      <td>0</td>\n",
       "      <td>26097871753321</td>\n",
       "    </tr>\n",
       "    <tr>\n",
       "      <th>9</th>\n",
       "      <td>0</td>\n",
       "      <td>0</td>\n",
       "      <td>1686268799</td>\n",
       "      <td>4150517416584649113600</td>\n",
       "      <td>174525860087</td>\n",
       "      <td>184823500000</td>\n",
       "      <td>1000000000000000</td>\n",
       "      <td>0</td>\n",
       "      <td>0</td>\n",
       "      <td>26097871753321</td>\n",
       "    </tr>\n",
       "    <tr>\n",
       "      <th>10</th>\n",
       "      <td>0</td>\n",
       "      <td>0</td>\n",
       "      <td>1686268799</td>\n",
       "      <td>4150517416584649113600</td>\n",
       "      <td>174525860087</td>\n",
       "      <td>184823500000</td>\n",
       "      <td>1100000000000000</td>\n",
       "      <td>0</td>\n",
       "      <td>0</td>\n",
       "      <td>28707658928653</td>\n",
       "    </tr>\n",
       "    <tr>\n",
       "      <th>11</th>\n",
       "      <td>0</td>\n",
       "      <td>0</td>\n",
       "      <td>1685663999</td>\n",
       "      <td>4381101717506018508800</td>\n",
       "      <td>190625749999</td>\n",
       "      <td>186833000000</td>\n",
       "      <td>100000000000000000</td>\n",
       "      <td>328261003040398</td>\n",
       "      <td>328261003040398</td>\n",
       "      <td>0</td>\n",
       "    </tr>\n",
       "    <tr>\n",
       "      <th>12</th>\n",
       "      <td>0</td>\n",
       "      <td>0</td>\n",
       "      <td>1685059199</td>\n",
       "      <td>4150517416584649113600</td>\n",
       "      <td>182871201931</td>\n",
       "      <td>180766093714</td>\n",
       "      <td>50000000000000000</td>\n",
       "      <td>785033920235113</td>\n",
       "      <td>785033920235113</td>\n",
       "      <td>211901938648981</td>\n",
       "    </tr>\n",
       "    <tr>\n",
       "      <th>13</th>\n",
       "      <td>0</td>\n",
       "      <td>1</td>\n",
       "      <td>1684454399</td>\n",
       "      <td>4381101717506018508800</td>\n",
       "      <td>181338000000</td>\n",
       "      <td>180575000000</td>\n",
       "      <td>20000000000000000</td>\n",
       "      <td>1732399</td>\n",
       "      <td>1732400</td>\n",
       "      <td>1885000</td>\n",
       "    </tr>\n",
       "    <tr>\n",
       "      <th>14</th>\n",
       "      <td>0</td>\n",
       "      <td>1</td>\n",
       "      <td>1684454399</td>\n",
       "      <td>4381101717506018508800</td>\n",
       "      <td>181338000000</td>\n",
       "      <td>180575000000</td>\n",
       "      <td>1000000000000000</td>\n",
       "      <td>86619</td>\n",
       "      <td>86620</td>\n",
       "      <td>94250</td>\n",
       "    </tr>\n",
       "    <tr>\n",
       "      <th>15</th>\n",
       "      <td>0</td>\n",
       "      <td>1</td>\n",
       "      <td>1684454399</td>\n",
       "      <td>4381101717506018508800</td>\n",
       "      <td>181338000000</td>\n",
       "      <td>180575000000</td>\n",
       "      <td>100000000000000000</td>\n",
       "      <td>8661999</td>\n",
       "      <td>8662000</td>\n",
       "      <td>9425000</td>\n",
       "    </tr>\n",
       "    <tr>\n",
       "      <th>16</th>\n",
       "      <td>0</td>\n",
       "      <td>1</td>\n",
       "      <td>1684454399</td>\n",
       "      <td>4381101717506018508800</td>\n",
       "      <td>181338000000</td>\n",
       "      <td>180575000000</td>\n",
       "      <td>10000000000000000</td>\n",
       "      <td>866199</td>\n",
       "      <td>866200</td>\n",
       "      <td>942500</td>\n",
       "    </tr>\n",
       "    <tr>\n",
       "      <th>17</th>\n",
       "      <td>1</td>\n",
       "      <td>1</td>\n",
       "      <td>1682035199</td>\n",
       "      <td>4381101717506018508800</td>\n",
       "      <td>184481500000</td>\n",
       "      <td>193971440763</td>\n",
       "      <td>2700000000000000</td>\n",
       "      <td>4981000</td>\n",
       "      <td>4981000</td>\n",
       "      <td>5130000</td>\n",
       "    </tr>\n",
       "    <tr>\n",
       "      <th>18</th>\n",
       "      <td>0</td>\n",
       "      <td>1</td>\n",
       "      <td>1683244799</td>\n",
       "      <td>4381101717506018508800</td>\n",
       "      <td>199081500000</td>\n",
       "      <td>187700133191</td>\n",
       "      <td>2000000000000000000</td>\n",
       "      <td>0</td>\n",
       "      <td>0</td>\n",
       "      <td>45997336</td>\n",
       "    </tr>\n",
       "    <tr>\n",
       "      <th>19</th>\n",
       "      <td>0</td>\n",
       "      <td>0</td>\n",
       "      <td>1682035199</td>\n",
       "      <td>4381101717506018508800</td>\n",
       "      <td>184481500000</td>\n",
       "      <td>193971440763</td>\n",
       "      <td>2000000000000000000</td>\n",
       "      <td>0</td>\n",
       "      <td>0</td>\n",
       "      <td>40948716443802909</td>\n",
       "    </tr>\n",
       "    <tr>\n",
       "      <th>20</th>\n",
       "      <td>0</td>\n",
       "      <td>1</td>\n",
       "      <td>1682035199</td>\n",
       "      <td>4381101717506018508800</td>\n",
       "      <td>184481500000</td>\n",
       "      <td>193971440763</td>\n",
       "      <td>2000000000000000000</td>\n",
       "      <td>110370000</td>\n",
       "      <td>110370000</td>\n",
       "      <td>0</td>\n",
       "    </tr>\n",
       "    <tr>\n",
       "      <th>21</th>\n",
       "      <td>0</td>\n",
       "      <td>0</td>\n",
       "      <td>1682035199</td>\n",
       "      <td>4381101717506018508800</td>\n",
       "      <td>184481500000</td>\n",
       "      <td>193971440763</td>\n",
       "      <td>50000000000000000</td>\n",
       "      <td>0</td>\n",
       "      <td>0</td>\n",
       "      <td>1023717911095072</td>\n",
       "    </tr>\n",
       "    <tr>\n",
       "      <th>22</th>\n",
       "      <td>0</td>\n",
       "      <td>0</td>\n",
       "      <td>1682035199</td>\n",
       "      <td>4381101717506018508800</td>\n",
       "      <td>184481500000</td>\n",
       "      <td>193971440763</td>\n",
       "      <td>1000000000000000</td>\n",
       "      <td>0</td>\n",
       "      <td>0</td>\n",
       "      <td>20474358221901</td>\n",
       "    </tr>\n",
       "    <tr>\n",
       "      <th>23</th>\n",
       "      <td>0</td>\n",
       "      <td>1</td>\n",
       "      <td>1682035199</td>\n",
       "      <td>4381101717506018508800</td>\n",
       "      <td>184481500000</td>\n",
       "      <td>193971440763</td>\n",
       "      <td>2000000000000000</td>\n",
       "      <td>110369</td>\n",
       "      <td>110370</td>\n",
       "      <td>0</td>\n",
       "    </tr>\n",
       "    <tr>\n",
       "      <th>24</th>\n",
       "      <td>0</td>\n",
       "      <td>0</td>\n",
       "      <td>1682035199</td>\n",
       "      <td>4381101717506018508800</td>\n",
       "      <td>184481500000</td>\n",
       "      <td>193971440763</td>\n",
       "      <td>2000000000000000</td>\n",
       "      <td>0</td>\n",
       "      <td>0</td>\n",
       "      <td>40948716443802</td>\n",
       "    </tr>\n",
       "    <tr>\n",
       "      <th>25</th>\n",
       "      <td>0</td>\n",
       "      <td>0</td>\n",
       "      <td>1682035199</td>\n",
       "      <td>4381101717506018508800</td>\n",
       "      <td>184481500000</td>\n",
       "      <td>193971440763</td>\n",
       "      <td>1000000000000000</td>\n",
       "      <td>0</td>\n",
       "      <td>0</td>\n",
       "      <td>20474358221901</td>\n",
       "    </tr>\n",
       "    <tr>\n",
       "      <th>26</th>\n",
       "      <td>0</td>\n",
       "      <td>1</td>\n",
       "      <td>1682035199</td>\n",
       "      <td>4381101717506018508800</td>\n",
       "      <td>184481500000</td>\n",
       "      <td>193971440763</td>\n",
       "      <td>50000000000000000</td>\n",
       "      <td>2759249</td>\n",
       "      <td>2759250</td>\n",
       "      <td>0</td>\n",
       "    </tr>\n",
       "    <tr>\n",
       "      <th>27</th>\n",
       "      <td>0</td>\n",
       "      <td>1</td>\n",
       "      <td>1682035199</td>\n",
       "      <td>4381101717506018508800</td>\n",
       "      <td>184481500000</td>\n",
       "      <td>193971440763</td>\n",
       "      <td>10000000000000000</td>\n",
       "      <td>551849</td>\n",
       "      <td>551850</td>\n",
       "      <td>0</td>\n",
       "    </tr>\n",
       "    <tr>\n",
       "      <th>28</th>\n",
       "      <td>0</td>\n",
       "      <td>0</td>\n",
       "      <td>1682035199</td>\n",
       "      <td>4381101717506018508800</td>\n",
       "      <td>184481500000</td>\n",
       "      <td>193971440763</td>\n",
       "      <td>100000000000000000</td>\n",
       "      <td>0</td>\n",
       "      <td>0</td>\n",
       "      <td>2047435822190145</td>\n",
       "    </tr>\n",
       "    <tr>\n",
       "      <th>29</th>\n",
       "      <td>0</td>\n",
       "      <td>0</td>\n",
       "      <td>1682035199</td>\n",
       "      <td>4381101717506018508800</td>\n",
       "      <td>184481500000</td>\n",
       "      <td>193971440763</td>\n",
       "      <td>100000000000000000</td>\n",
       "      <td>0</td>\n",
       "      <td>0</td>\n",
       "      <td>2047435822190145</td>\n",
       "    </tr>\n",
       "  </tbody>\n",
       "</table>\n",
       "</div>"
      ],
      "text/plain": [
       "    side  option_type    maturity                  strike    curr_price    pool_price           opt_burned  capital_transfered calc_received_payoff should_receive_payoff\n",
       "0      0            0  1687478399  4150517416584649113600  189307847241  187489594018   100000000000000000    4916778346304135     4916778346304136      3994671841510819\n",
       "1      0            0  1687478399  3919933115663279718400  189307847241  187489594018     1000000000000000     101991795492872      101991795492872        93283011836491\n",
       "2      0            0  1686873599  4150517416584649113600  187520500000  166757789406  1000000000000000000   40104948525627864    40104948525627864                     0\n",
       "3      0            0  1686873599  4150517416584649113600  187520500000  166757789406  9000000000000000000  360944536730650781   360944536730650782                     0\n",
       "4      1            1  1686873599  4150517416584649113600  187520500000  166757789406  1000000000000000000          1800000000           1800000000            1667577894\n",
       "5      0            0  1686873599  4150517416584649113600  187520500000  166757789406    10000000000000000     401049485256278      401049485256278                     0\n",
       "6      0            0  1685059199  4150517416584649113600  182871201931  180766093714     3000000000000000      47102035214106       47102035214106        12714116318938\n",
       "7      0            0  1686268799  4150517416584649113600  174525860087  184823500000     1000000000000000                   0                    0        26097871753321\n",
       "8      0            0  1686268799  4150517416584649113600  174525860087  184823500000     1000000000000000                   0                    0        26097871753321\n",
       "9      0            0  1686268799  4150517416584649113600  174525860087  184823500000     1000000000000000                   0                    0        26097871753321\n",
       "10     0            0  1686268799  4150517416584649113600  174525860087  184823500000     1100000000000000                   0                    0        28707658928653\n",
       "11     0            0  1685663999  4381101717506018508800  190625749999  186833000000   100000000000000000     328261003040398      328261003040398                     0\n",
       "12     0            0  1685059199  4150517416584649113600  182871201931  180766093714    50000000000000000     785033920235113      785033920235113       211901938648981\n",
       "13     0            1  1684454399  4381101717506018508800  181338000000  180575000000    20000000000000000             1732399              1732400               1885000\n",
       "14     0            1  1684454399  4381101717506018508800  181338000000  180575000000     1000000000000000               86619                86620                 94250\n",
       "15     0            1  1684454399  4381101717506018508800  181338000000  180575000000   100000000000000000             8661999              8662000               9425000\n",
       "16     0            1  1684454399  4381101717506018508800  181338000000  180575000000    10000000000000000              866199               866200                942500\n",
       "17     1            1  1682035199  4381101717506018508800  184481500000  193971440763     2700000000000000             4981000              4981000               5130000\n",
       "18     0            1  1683244799  4381101717506018508800  199081500000  187700133191  2000000000000000000                   0                    0              45997336\n",
       "19     0            0  1682035199  4381101717506018508800  184481500000  193971440763  2000000000000000000                   0                    0     40948716443802909\n",
       "20     0            1  1682035199  4381101717506018508800  184481500000  193971440763  2000000000000000000           110370000            110370000                     0\n",
       "21     0            0  1682035199  4381101717506018508800  184481500000  193971440763    50000000000000000                   0                    0      1023717911095072\n",
       "22     0            0  1682035199  4381101717506018508800  184481500000  193971440763     1000000000000000                   0                    0        20474358221901\n",
       "23     0            1  1682035199  4381101717506018508800  184481500000  193971440763     2000000000000000              110369               110370                     0\n",
       "24     0            0  1682035199  4381101717506018508800  184481500000  193971440763     2000000000000000                   0                    0        40948716443802\n",
       "25     0            0  1682035199  4381101717506018508800  184481500000  193971440763     1000000000000000                   0                    0        20474358221901\n",
       "26     0            1  1682035199  4381101717506018508800  184481500000  193971440763    50000000000000000             2759249              2759250                     0\n",
       "27     0            1  1682035199  4381101717506018508800  184481500000  193971440763    10000000000000000              551849               551850                     0\n",
       "28     0            0  1682035199  4381101717506018508800  184481500000  193971440763   100000000000000000                   0                    0      2047435822190145\n",
       "29     0            0  1682035199  4381101717506018508800  184481500000  193971440763   100000000000000000                   0                    0      2047435822190145"
      ]
     },
     "execution_count": 49,
     "metadata": {},
     "output_type": "execute_result"
    }
   ],
   "source": [
    "user_loss_sets[['side', 'option_type', 'maturity', 'strike', 'curr_price', 'pool_price', 'opt_burned', 'capital_transfered', 'calc_received_payoff', 'should_receive_payoff']]"
   ]
  },
  {
   "cell_type": "code",
   "execution_count": 100,
   "metadata": {},
   "outputs": [],
   "source": [
    "# user_loss_sets.to_csv('user_loss_sets.csv')"
   ]
  },
  {
   "cell_type": "code",
   "execution_count": 101,
   "metadata": {},
   "outputs": [],
   "source": [
    "loss_c = user_loss_sets[user_loss_sets['option_type'] == CALL].copy()\n",
    "loss_p = user_loss_sets[user_loss_sets['option_type'] == PUT].copy()"
   ]
  },
  {
   "cell_type": "code",
   "execution_count": 112,
   "metadata": {},
   "outputs": [
    {
     "name": "stdout",
     "output_type": "stream",
     "text": [
      "AMM loses:  0.357060926227151829 ETH\n",
      "User losses:  0.046256204706354491 ETH\n",
      "User gains:  0.403317130933506318 ETH\n"
     ]
    }
   ],
   "source": [
    "# Amm losses \n",
    "amm_loss_c = (loss_c['calc_received_payoff'] - loss_c['should_receive_payoff'])\n",
    "print(\"AMM loses: \", amm_loss_c.sum() / ETH_MULT, 'ETH')\n",
    "\n",
    "# User lossesj\n",
    "user_loss_c = loss_c[loss_c['capital_transfered'] < loss_c['should_receive_payoff']].copy()\n",
    "user_loss_c['loss'] = user_loss_c.eval(\"should_receive_payoff - capital_transfered\")\n",
    "print(\"User losses: \",  user_loss_c['loss'].sum() / ETH_MULT, 'ETH')\n",
    "\n",
    "# User excessive gains\n",
    "user_gains_c = loss_c[loss_c['capital_transfered'] > loss_c['should_receive_payoff']].copy()\n",
    "user_gains_c['gain'] = user_gains_c.eval(\"capital_transfered - should_receive_payoff\")\n",
    "print(\"User gains: \", user_gains_c['gain'].sum() / ETH_MULT, 'ETH')"
   ]
  },
  {
   "cell_type": "code",
   "execution_count": 138,
   "metadata": {},
   "outputs": [
    {
     "data": {
      "text/plain": [
       "357060926227151829"
      ]
     },
     "execution_count": 138,
     "metadata": {},
     "output_type": "execute_result"
    }
   ],
   "source": [
    "amm_loss_c.sum()"
   ]
  },
  {
   "cell_type": "code",
   "execution_count": 132,
   "metadata": {},
   "outputs": [
    {
     "name": "stdout",
     "output_type": "stream",
     "text": [
      "AMM loses:  199.06771 USDC\n",
      "User losses:  47.14587 USDC\n",
      "User gains:  246.213573 USDC\n"
     ]
    }
   ],
   "source": [
    "# Amm losses \n",
    "amm_loss_p = (loss_p['calc_received_payoff'] - loss_p['should_receive_payoff'])\n",
    "print(\"AMM loses: \", amm_loss_p.sum() / USDC_MULT, 'USDC')\n",
    "\n",
    "# User losses\n",
    "user_loss_p = loss_p[loss_p['capital_transfered'] < loss_p['should_receive_payoff']].copy()\n",
    "user_loss_p['loss'] = user_loss_p.eval(\"should_receive_payoff - capital_transfered\")\n",
    "print(\"User losses: \",  user_loss_p['loss'].sum() / USDC_MULT, 'USDC')\n",
    "\n",
    "# User excessive gains\n",
    "user_gains_p = loss_p[loss_p['capital_transfered'] > loss_p['should_receive_payoff']].copy()\n",
    "user_gains_p['gain'] = user_gains_p.eval(\"capital_transfered - should_receive_payoff\")\n",
    "print(\"User gains: \", user_gains_p['gain'].sum() / USDC_MULT, 'USDC')"
   ]
  },
  {
   "cell_type": "code",
   "execution_count": 137,
   "metadata": {},
   "outputs": [
    {
     "data": {
      "text/plain": [
       "199067710"
      ]
     },
     "execution_count": 137,
     "metadata": {},
     "output_type": "execute_result"
    }
   ],
   "source": [
    "amm_loss_p.sum()"
   ]
  },
  {
   "cell_type": "code",
   "execution_count": 136,
   "metadata": {},
   "outputs": [],
   "source": [
    "# user_loss_p[['caller', 'loss']].set_index('caller').to_csv('user_losses_USDC.csv')"
   ]
  },
  {
   "cell_type": "code",
   "execution_count": 131,
   "metadata": {},
   "outputs": [],
   "source": [
    "# user_loss_c[['caller', 'loss']].set_index('caller').to_csv('user_losses_ETH.csv')"
   ]
  },
  {
   "attachments": {},
   "cell_type": "markdown",
   "metadata": {},
   "source": [
    "### Sanity Checks"
   ]
  },
  {
   "attachments": {},
   "cell_type": "markdown",
   "metadata": {},
   "source": [
    "##### Lpool balances"
   ]
  },
  {
   "cell_type": "code",
   "execution_count": 5,
   "metadata": {},
   "outputs": [],
   "source": [
    "\n",
    "url = 'https://api.starkscan.co/api/v0/events?from_address=0x076dbabc4293db346b0a56b29b6ea9fe18e93742c73f12348c8747ecfc1050aa&limit=100'\n",
    "\n",
    "headers = {\n",
    "    \"accept\": \"application/json\",\n",
    "    \"x-api-key\": \"yKIwKIEUPu4tEBVeLg003MmDm7CuPeg2FBC8oLH8\",\n",
    "}\n",
    "\n",
    "resps_amm_events = []\n",
    "\n",
    "while True:\n",
    "    response = requests.get(url, headers=headers)\n",
    "    resps_amm_events.extend(response.json()['data'])\n",
    "    url = response.json()['next_url']\n",
    "    if not url:\n",
    "        break\n",
    "    time.sleep(0.1)\n",
    "\n",
    "\n",
    "events = pd.DataFrame(resps_amm_events)\n",
    "\n",
    "pool_sets = events[events['key_name'] == 'ExpireOptionTokenForPool'].copy()\n",
    "pool_sets['lp_token'] = [i[0] for i in pool_sets['data']]\n",
    "pool_sets['side'] = [int(i[1], 16) for i in pool_sets['data']]\n",
    "pool_sets['strike'] = [Decimal(int(i[2], 16)) for i in pool_sets['data']] # Convert to decimal\n",
    "pool_sets['maturity'] = [int(i[3], 16) for i in pool_sets['data']]\n",
    "pool_sets = pool_sets.to_dict('records')\n",
    "\n",
    "\n",
    "opts = fetch_options()\n",
    "\n",
    "# Convert all value to Decimal\n",
    "for opt in opts:\n",
    "    opt['strike_price'] = Decimal(int(opt['strike_price'], 16))\n",
    "\n",
    "    for vol in opt['volatilities']:\n",
    "        vol['volatility'] = Decimal(int(vol['volatility'], 16)) if vol['volatility'] is not None else None\n",
    "        vol['option_position'] = Decimal(int(vol['option_position'], 16)) if vol['option_position'] is not None else None\n",
    "                                                 \n",
    "\n",
    "\n",
    "lpools = {i['lp_token'] for i in pool_sets}\n",
    "\n",
    "# Add lpool balances\n",
    "lpools = [\n",
    "    {\n",
    "        'lp_token': i, \n",
    "        'lpool_balance': Decimal((await func_call(AMM_ADDR, 'get_lpool_balance', [i], None))[1][0]),\n",
    "        'option_type': 0 if i == '0x7aba50fdb4e024c1ba63e2c60565d0fd32566ff4b18aa5818fc80c30e749024' else 1\n",
    "    }\n",
    "    for i in lpools\n",
    "]\n",
    "\n",
    "# Add real balances\n",
    "for i in lpools:\n",
    "    i.update(\n",
    "        {\n",
    "            'real_balance': Decimal(\n",
    "                (await func_call(TOKEN_ETH_ADDRESS if i['option_type'] == 0 else TOKEN_USD_ADDRESS, 'balanceOf', [AMM_ADDR], None))[1][0]\n",
    "            )\n",
    "        }\n",
    "    )"
   ]
  },
  {
   "cell_type": "code",
   "execution_count": 6,
   "metadata": {},
   "outputs": [
    {
     "data": {
      "text/plain": [
       "[{'lp_token': '0x7aba50fdb4e024c1ba63e2c60565d0fd32566ff4b18aa5818fc80c30e749024',\n",
       "  'lpool_balance': Decimal('32370981691650588891'),\n",
       "  'option_type': 0,\n",
       "  'real_balance': Decimal('50427361556382655738')},\n",
       " {'lp_token': '0x18a6abca394bd5f822cfa5f88783c01b13e593d1603e7b41b00d31d2ea4827a',\n",
       "  'lpool_balance': Decimal('54850593053'),\n",
       "  'option_type': 1,\n",
       "  'real_balance': Decimal('55492542997')}]"
      ]
     },
     "execution_count": 6,
     "metadata": {},
     "output_type": "execute_result"
    }
   ],
   "source": [
    "lpools"
   ]
  },
  {
   "attachments": {},
   "cell_type": "markdown",
   "metadata": {},
   "source": [
    "##### Unsettled profit in expired options"
   ]
  },
  {
   "cell_type": "code",
   "execution_count": 7,
   "metadata": {},
   "outputs": [],
   "source": [
    "call_opts = [i for i in opts if i['option_type'] == CALL]\n",
    "put_opts = [i for i in opts if i['option_type'] == PUT]\n",
    "\n",
    "# # Fetch supplies\n",
    "for opt in call_opts:\n",
    "    while True:\n",
    "        try:\n",
    "            res  = await func_call(int(opt['option_address'], 16), 'totalSupply', [], None)\n",
    "            opt['supply'] = Decimal(res[1][0])\n",
    "            break\n",
    "        except KeyboardInterrupt:\n",
    "            break\n",
    "        except Exception as e:\n",
    "            # print(e)\n",
    "            continue\n",
    "\n",
    "\n",
    "\n",
    "for opt in put_opts:\n",
    "    while True:\n",
    "        try:\n",
    "            res  = await func_call(int(opt['option_address'], 16), 'totalSupply', [], None)\n",
    "            opt['supply'] = Decimal(res[1][0])\n",
    "            break\n",
    "        except KeyboardInterrupt:\n",
    "            break\n",
    "        except Exception as e:\n",
    "            # print(e)\n",
    "            continue"
   ]
  },
  {
   "cell_type": "code",
   "execution_count": 8,
   "metadata": {},
   "outputs": [],
   "source": [
    "n = time.time()\n",
    "\n",
    "call_opts_exp = [i for i in call_opts if i['maturity'] <= n]\n",
    "put_opts_exp = [i for i in put_opts if i['maturity'] <= n]\n",
    "\n",
    "correct_prices = {\n",
    "    1690502399: Decimal('185698750000'),\n",
    "    1689897599: Decimal('189295959355'),\n",
    "    1689292799: Decimal('199634999999'),\n",
    "    1688687999: Decimal('185965250000'),\n",
    "    1688083199: Decimal('185376388188'),\n",
    "    1687478399: Decimal('187489594018'),\n",
    "    1686873599: Decimal('166757789406'),\n",
    "    1686268799: Decimal('184823500000'),\n",
    "    1685663999: Decimal('186833000000'),\n",
    "    1685059199: Decimal('180766093714'),\n",
    "    1683244799: Decimal('187700133191'),\n",
    "    1682035199: Decimal('193971440763'),\n",
    "    1684454399: Decimal('180575000000')\n",
    "}\n",
    "\n",
    "# Add price at expiry \n",
    "for opt in call_opts_exp:\n",
    "    opt['exp_price'] = correct_prices[opt['maturity']]\n",
    "\n",
    "for opt in put_opts_exp:\n",
    "    opt['exp_price'] = correct_prices[opt['maturity']]"
   ]
  },
  {
   "cell_type": "code",
   "execution_count": 9,
   "metadata": {},
   "outputs": [],
   "source": [
    "# Get payoffs on unsettled options\n",
    "for opt in call_opts_exp: \n",
    "    if opt['option_side'] == 0: # Long\n",
    "        opt['payoff'] = (opt['supply'] / OPT_MULT) * max(0, ((opt['exp_price'] / PRAGMA_MULT) - (opt['strike_price']) / FRACT_PART) / (opt['exp_price'] / PRAGMA_MULT)) * ETH_MULT\n",
    "    elif opt['option_side'] == 1: # Short\n",
    "        opt['payoff'] =  (opt['supply'] / OPT_MULT) * (1 - max(0, ((opt['exp_price'] / PRAGMA_MULT) - (opt['strike_price']) / FRACT_PART) / (opt['exp_price'] / PRAGMA_MULT))) * ETH_MULT\n",
    "    else:\n",
    "        print(\"How did we get here?\")\n",
    "\n",
    "    opt['payoff'] = opt['payoff'].quantize(Decimal('1.'), ROUND_DOWN)\n",
    "\n",
    "for opt in put_opts_exp:\n",
    "    if opt['option_side'] == 0: # Long\n",
    "        opt['payoff'] = (opt['supply'] / OPT_MULT) * max(0, (opt['strike_price'] / FRACT_PART) - (opt['exp_price'] / PRAGMA_MULT)) * USDC_MULT\n",
    "    elif opt['option_side'] == 1: # Short\n",
    "        opt['payoff'] = (opt['supply'] / OPT_MULT) * min((opt['strike_price'] / FRACT_PART), (opt['exp_price'] / PRAGMA_MULT)) * USDC_MULT\n",
    "    else: \n",
    "        print('How did we get here?')\n",
    "\n",
    "    opt['payoff'] = opt['payoff'].quantize(Decimal('1.'), ROUND_DOWN)\n"
   ]
  },
  {
   "cell_type": "markdown",
   "metadata": {},
   "source": [
    "#### Unexpired options"
   ]
  },
  {
   "cell_type": "code",
   "execution_count": 10,
   "metadata": {},
   "outputs": [],
   "source": [
    "trades = events[events['key_name'].isin(['TradeOpen', 'TradeClose'])].copy()\n",
    "\n",
    "trades['option_token']       = [i[1] for i in trades['data']]\n",
    "trades['capital_transfered'] = [i[2] for i in trades['data']]\n",
    "trades['opt_change']         = [i[4] for i in trades['data']]\n",
    "\n",
    "trades = trades[['timestamp', 'key_name', 'option_token', 'capital_transfered', 'opt_change']].to_dict('records')\n",
    "\n",
    "for trade in trades:\n",
    "    matching_option = None\n",
    "    for opt in opts:\n",
    "        if int(trade['option_token'], 16) == int(opt['option_address'], 16):\n",
    "            matching_option = opt\n",
    "\n",
    "    if matching_option is None:\n",
    "        print('Unable to find option for trade:', trade)\n",
    "        break \n",
    "\n",
    "    # Convert to decimals\n",
    "    trade['capital_transfered'] = Decimal(int(trade['capital_transfered'], 16))\n",
    "    trade['opt_change'] = Decimal(int(trade['opt_change'], 16))\n",
    "\n",
    "    # Get option specs\n",
    "    trade['maturity'] = matching_option['maturity']\n",
    "    trade['strike_price'] = matching_option['strike_price']\n",
    "    trade['option_side'] = matching_option['option_side']\n",
    "    trade['option_type'] = matching_option['option_type']"
   ]
  },
  {
   "cell_type": "code",
   "execution_count": 67,
   "metadata": {},
   "outputs": [],
   "source": [
    "# Select only trades on unexpired options\n",
    "trades = [\n",
    "    i for i in trades\n",
    "    if i['maturity'] >= n\n",
    "]\n",
    "\n",
    "# Calculate adjustments to balanceof amm\n",
    "\n",
    "for trade in trades:\n",
    "\n",
    "    if trade['option_side'] == 0:\n",
    "        # Both balanceOf and lpool balance are increased(for TradeOpen, decreased for TradeClose) by long premia paid\n",
    "        # so no adjustments are needed\n",
    "        trade['adjust_balanceOf_by'] = Decimal(0)\n",
    "    \n",
    "    elif trade['option_side'] == 1: \n",
    "        # For TradeOpen, both balanceOf and lpool balance are decreased by short premium received \n",
    "        # but balance is increased by option size on top of that, so we need to substract that\n",
    "\n",
    "        # While for TradeClose both balanceOf and lpool balance are increased by premia with fees,\n",
    "        # however now we need to adjust by adding option_size\n",
    "\n",
    "        if trade['option_type'] == 0:\n",
    "            # Call tokens have same amount of decimals as \n",
    "            # trade['adjust_balanceOf_by'] = trade['opt_change']\n",
    "            trade['adjust_balanceOf_by'] = -trade['opt_change'] if trade['key_name'] == 'TradeOpen' else trade['opt_change']\n",
    "\n",
    "        if trade['option_type'] == 1:\n",
    "            # Put tokens don't - we have to convert from opt to usdc \n",
    "            # Also we have to multiply by strike price \n",
    "            adjustment = -trade['opt_change'] if trade['key_name'] == 'TradeOpen' else trade['opt_change']\n",
    "            trade['adjust_balanceOf_by'] = adjustment / OPT_MULT * USDC_MULT * trade['strike_price'] / FRACT_PART\n",
    "\n",
    "    else: \n",
    "        print('How did we get here?', trade)\n",
    "\n",
    "\n",
    "call_trades = [i for i in trades if i['option_type'] == CALL]\n",
    "put_trades = [i for i in trades if i['option_type'] == PUT]"
   ]
  },
  {
   "cell_type": "code",
   "execution_count": 70,
   "metadata": {},
   "outputs": [],
   "source": [
    "# Copied\n",
    "amm_loss_c = Decimal('357060926227151829')\n",
    "amm_loss_p = Decimal('199067710')"
   ]
  },
  {
   "cell_type": "markdown",
   "metadata": {},
   "source": [
    "### All together"
   ]
  },
  {
   "cell_type": "code",
   "execution_count": 71,
   "metadata": {},
   "outputs": [
    {
     "data": {
      "text/plain": [
       "[{'lp_token': '0x7aba50fdb4e024c1ba63e2c60565d0fd32566ff4b18aa5818fc80c30e749024',\n",
       "  'lpool_balance': Decimal('32370981691650588891'),\n",
       "  'option_type': 0,\n",
       "  'real_balance': Decimal('50427361556382655738')},\n",
       " {'lp_token': '0x18a6abca394bd5f822cfa5f88783c01b13e593d1603e7b41b00d31d2ea4827a',\n",
       "  'lpool_balance': Decimal('54850593053'),\n",
       "  'option_type': 1,\n",
       "  'real_balance': Decimal('55492542997')}]"
      ]
     },
     "execution_count": 71,
     "metadata": {},
     "output_type": "execute_result"
    }
   ],
   "source": [
    "lpools"
   ]
  },
  {
   "cell_type": "code",
   "execution_count": 96,
   "metadata": {},
   "outputs": [
    {
     "data": {
      "text/plain": [
       "Decimal('3.026461790959218462')"
      ]
     },
     "execution_count": 96,
     "metadata": {},
     "output_type": "execute_result"
    }
   ],
   "source": [
    "sum(i['payoff'] for i in call_opts_exp) / ETH_MULT"
   ]
  },
  {
   "cell_type": "code",
   "execution_count": 97,
   "metadata": {},
   "outputs": [
    {
     "data": {
      "text/plain": [
       "Decimal('837.121182')"
      ]
     },
     "execution_count": 97,
     "metadata": {},
     "output_type": "execute_result"
    }
   ],
   "source": [
    "sum(i['payoff'] for i in put_opts_exp) / USDC_MULT"
   ]
  },
  {
   "cell_type": "code",
   "execution_count": 82,
   "metadata": {},
   "outputs": [
    {
     "data": {
      "text/plain": [
       "Decimal('2.14E-16')"
      ]
     },
     "execution_count": 82,
     "metadata": {},
     "output_type": "execute_result"
    }
   ],
   "source": [
    "res_call = (\n",
    "      lpools[0]['real_balance'] # balanceOf (ie ETH)\n",
    "    - lpools[0]['lpool_balance'] # Lpool balance storage var\n",
    "    - sum(i['payoff'] for i in call_opts_exp) # Payoff that hasn't been yet settled\n",
    "    + sum(i['adjust_balanceOf_by'] for i in call_trades) # From trades on non-expired optionsns\n",
    "    + amm_loss_c # Loss from oracle bug\n",
    ") \n",
    "res_call / ETH_MULT"
   ]
  },
  {
   "cell_type": "code",
   "execution_count": 83,
   "metadata": {},
   "outputs": [
    {
     "data": {
      "text/plain": [
       "Decimal('0.000072')"
      ]
     },
     "execution_count": 83,
     "metadata": {},
     "output_type": "execute_result"
    }
   ],
   "source": [
    "res_put = (\n",
    "      lpools[1]['real_balance'] \n",
    "    - lpools[1]['lpool_balance'] \n",
    "    - sum(i['payoff'] for i in put_opts_exp)\n",
    "    + sum(i['adjust_balanceOf_by'] for i in put_trades)\n",
    "    + amm_loss_p \n",
    ")\n",
    "res_put / USDC_MULT"
   ]
  },
  {
   "cell_type": "code",
   "execution_count": null,
   "metadata": {},
   "outputs": [],
   "source": [
    "# Note that error is basically a positive zero, and some small rounding errors that leave little bit in the amm \n",
    "# are expected\n",
    "\n",
    "# So it seems like the losses calculated are correct and thus \n",
    "# total loss is around 0.403 ETH and around 246.21 USDC\n",
    "# where AMM is missing around 0.357 ETH and 199.067 USDC\n",
    "# while users are missing around 0.046 ETH and 47 USDC"
   ]
  }
 ],
 "metadata": {
  "kernelspec": {
   "display_name": "cairo_venv",
   "language": "python",
   "name": "python3"
  },
  "language_info": {
   "codemirror_mode": {
    "name": "ipython",
    "version": 3
   },
   "file_extension": ".py",
   "mimetype": "text/x-python",
   "name": "python",
   "nbconvert_exporter": "python",
   "pygments_lexer": "ipython3",
   "version": "3.9.16"
  },
  "orig_nbformat": 4
 },
 "nbformat": 4,
 "nbformat_minor": 2
}
